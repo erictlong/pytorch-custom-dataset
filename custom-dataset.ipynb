{
 "cells": [
  {
   "cell_type": "markdown",
   "metadata": {},
   "source": [
    "# Writing Custom Dataset, Dataloader and Transformers\n",
    "\n",
    "Pratice with custom dataset\n",
    "\n",
    "soruce:\n",
    "https://pytorch.org/tutorials/beginner/data_loading_tutorial.html?highlight=csv"
   ]
  },
  {
   "cell_type": "code",
   "execution_count": null,
   "metadata": {},
   "outputs": [],
   "source": []
  }
 ],
 "metadata": {
  "kernelspec": {
   "display_name": "venv-metal",
   "language": "python",
   "name": "python3"
  },
  "language_info": {
   "name": "python",
   "version": "3.9.6"
  }
 },
 "nbformat": 4,
 "nbformat_minor": 2
}
